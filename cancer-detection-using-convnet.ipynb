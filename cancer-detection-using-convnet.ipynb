{
 "cells": [
  {
   "cell_type": "code",
   "execution_count": 1,
   "id": "9b31852f",
   "metadata": {
    "_cell_guid": "b1076dfc-b9ad-4769-8c92-a6c4dae69d19",
    "_uuid": "8f2839f25d086af736a60e9eeb907d3b93b6e0e5",
    "execution": {
     "iopub.execute_input": "2023-06-01T04:23:41.302587Z",
     "iopub.status.busy": "2023-06-01T04:23:41.302225Z",
     "iopub.status.idle": "2023-06-01T04:23:42.512040Z",
     "shell.execute_reply": "2023-06-01T04:23:42.511102Z"
    },
    "papermill": {
     "duration": 1.220518,
     "end_time": "2023-06-01T04:23:42.515093",
     "exception": false,
     "start_time": "2023-06-01T04:23:41.294575",
     "status": "completed"
    },
    "tags": []
   },
   "outputs": [],
   "source": [
    "# This Python 3 environment comes with many helpful analytics libraries installed\n",
    "# It is defined by the kaggle/python Docker image: https://github.com/kaggle/docker-python\n",
    "# For example, here's several helpful packages to load\n",
    "\n",
    "import numpy as np # linear algebra\n",
    "import pandas as pd # data processing, CSV file I/O (e.g. pd.read_csv)\n",
    "\n",
    "# Input data files are available in the read-only \"../input/\" directory\n",
    "# For example, running this (by clicking run or pressing Shift+Enter) will list all files under the input directory\n",
    "\n",
    "import os\n",
    "#for dirname, _, filenames in os.walk('/kaggle/input'):\n",
    " #   for filename in filenames:\n",
    "        #print(os.path.join(dirname, filename))\n",
    "\n",
    "# You can write up to 20GB to the current directory (/kaggle/working/) that gets preserved as output when you create a version using \"Save & Run All\" \n",
    "# You can also write temporary files to /kaggle/temp/, but they won't be saved outside of the current session"
   ]
  },
  {
   "cell_type": "code",
   "execution_count": 2,
   "id": "e06f106f",
   "metadata": {
    "execution": {
     "iopub.execute_input": "2023-06-01T04:23:42.527467Z",
     "iopub.status.busy": "2023-06-01T04:23:42.527110Z",
     "iopub.status.idle": "2023-06-01T04:31:44.353293Z",
     "shell.execute_reply": "2023-06-01T04:31:44.351935Z"
    },
    "papermill": {
     "duration": 481.83593,
     "end_time": "2023-06-01T04:31:44.356342",
     "exception": false,
     "start_time": "2023-06-01T04:23:42.520412",
     "status": "completed"
    },
    "tags": []
   },
   "outputs": [
    {
     "name": "stderr",
     "output_type": "stream",
     "text": [
      "D0601 04:30:18.484944585      13 config.cc:119]                        gRPC EXPERIMENT tcp_frame_size_tuning               OFF (default:OFF)\n",
      "D0601 04:30:18.484980950      13 config.cc:119]                        gRPC EXPERIMENT tcp_rcv_lowat                       OFF (default:OFF)\n",
      "D0601 04:30:18.484985027      13 config.cc:119]                        gRPC EXPERIMENT peer_state_based_framing            OFF (default:OFF)\n",
      "D0601 04:30:18.484988185      13 config.cc:119]                        gRPC EXPERIMENT flow_control_fixes                  ON  (default:ON)\n",
      "D0601 04:30:18.484990988      13 config.cc:119]                        gRPC EXPERIMENT memory_pressure_controller          OFF (default:OFF)\n",
      "D0601 04:30:18.484994034      13 config.cc:119]                        gRPC EXPERIMENT unconstrained_max_quota_buffer_size OFF (default:OFF)\n",
      "D0601 04:30:18.484997076      13 config.cc:119]                        gRPC EXPERIMENT new_hpack_huffman_decoder           ON  (default:ON)\n",
      "D0601 04:30:18.484999970      13 config.cc:119]                        gRPC EXPERIMENT event_engine_client                 OFF (default:OFF)\n",
      "D0601 04:30:18.485002834      13 config.cc:119]                        gRPC EXPERIMENT monitoring_experiment               ON  (default:ON)\n",
      "D0601 04:30:18.485005573      13 config.cc:119]                        gRPC EXPERIMENT promise_based_client_call           OFF (default:OFF)\n",
      "D0601 04:30:18.485008288      13 config.cc:119]                        gRPC EXPERIMENT free_large_allocator                OFF (default:OFF)\n",
      "D0601 04:30:18.485010968      13 config.cc:119]                        gRPC EXPERIMENT promise_based_server_call           OFF (default:OFF)\n",
      "D0601 04:30:18.485013744      13 config.cc:119]                        gRPC EXPERIMENT transport_supplies_client_latency   OFF (default:OFF)\n",
      "D0601 04:30:18.485016676      13 config.cc:119]                        gRPC EXPERIMENT event_engine_listener               OFF (default:OFF)\n",
      "I0601 04:30:18.485235503      13 ev_epoll1_linux.cc:122]               grpc epoll fd: 58\n",
      "D0601 04:30:18.485252363      13 ev_posix.cc:144]                      Using polling engine: epoll1\n",
      "D0601 04:30:18.485272589      13 dns_resolver_ares.cc:822]             Using ares dns resolver\n",
      "D0601 04:30:18.485642187      13 lb_policy_registry.cc:46]             registering LB policy factory for \"priority_experimental\"\n",
      "D0601 04:30:18.485652754      13 lb_policy_registry.cc:46]             registering LB policy factory for \"outlier_detection_experimental\"\n",
      "D0601 04:30:18.485656823      13 lb_policy_registry.cc:46]             registering LB policy factory for \"weighted_target_experimental\"\n",
      "D0601 04:30:18.485659992      13 lb_policy_registry.cc:46]             registering LB policy factory for \"pick_first\"\n",
      "D0601 04:30:18.485663109      13 lb_policy_registry.cc:46]             registering LB policy factory for \"round_robin\"\n",
      "D0601 04:30:18.485666116      13 lb_policy_registry.cc:46]             registering LB policy factory for \"weighted_round_robin_experimental\"\n",
      "D0601 04:30:18.485672105      13 lb_policy_registry.cc:46]             registering LB policy factory for \"ring_hash_experimental\"\n",
      "D0601 04:30:18.485689179      13 lb_policy_registry.cc:46]             registering LB policy factory for \"grpclb\"\n",
      "D0601 04:30:18.485717679      13 lb_policy_registry.cc:46]             registering LB policy factory for \"rls_experimental\"\n",
      "D0601 04:30:18.485733725      13 lb_policy_registry.cc:46]             registering LB policy factory for \"xds_cluster_manager_experimental\"\n",
      "D0601 04:30:18.485737344      13 lb_policy_registry.cc:46]             registering LB policy factory for \"xds_cluster_impl_experimental\"\n",
      "D0601 04:30:18.485740582      13 lb_policy_registry.cc:46]             registering LB policy factory for \"cds_experimental\"\n",
      "D0601 04:30:18.485744210      13 lb_policy_registry.cc:46]             registering LB policy factory for \"xds_cluster_resolver_experimental\"\n",
      "D0601 04:30:18.485747471      13 lb_policy_registry.cc:46]             registering LB policy factory for \"xds_override_host_experimental\"\n",
      "D0601 04:30:18.485750746      13 lb_policy_registry.cc:46]             registering LB policy factory for \"xds_wrr_locality_experimental\"\n",
      "D0601 04:30:18.485755244      13 certificate_provider_registry.cc:35]  registering certificate provider factory for \"file_watcher\"\n",
      "I0601 04:30:18.488058406      13 socket_utils_common_posix.cc:408]     Disabling AF_INET6 sockets because ::1 is not available.\n"
     ]
    }
   ],
   "source": [
    "import numpy as np\n",
    "import pandas as pd\n",
    "import tensorflow as tf\n",
    "from tensorflow import keras"
   ]
  },
  {
   "cell_type": "code",
   "execution_count": 3,
   "id": "634a14f5",
   "metadata": {
    "execution": {
     "iopub.execute_input": "2023-06-01T04:31:44.370159Z",
     "iopub.status.busy": "2023-06-01T04:31:44.369625Z",
     "iopub.status.idle": "2023-06-01T04:31:46.174958Z",
     "shell.execute_reply": "2023-06-01T04:31:46.174119Z"
    },
    "papermill": {
     "duration": 1.815031,
     "end_time": "2023-06-01T04:31:46.177270",
     "exception": false,
     "start_time": "2023-06-01T04:31:44.362239",
     "status": "completed"
    },
    "tags": []
   },
   "outputs": [
    {
     "name": "stdout",
     "output_type": "stream",
     "text": [
      "(96, 96, 3)\n"
     ]
    },
    {
     "data": {
      "text/plain": [
       "<matplotlib.image.AxesImage at 0x7fa2e0fce730>"
      ]
     },
     "execution_count": 3,
     "metadata": {},
     "output_type": "execute_result"
    },
    {
     "data": {
      "image/png": "[encoded data removed]",
      "text/plain": [
       "<Figure size 640x480 with 1 Axes>"
      ]
     },
     "metadata": {},
     "output_type": "display_data"
    }
   ],
   "source": [
    "from PIL import Image\n",
    "import matplotlib.pyplot as plt\n",
    "\n",
    "\n",
    "img = Image.open(r'/kaggle/input/histopathologic-cancer-detection/train/000020de2aa6193f4c160e398a8edea95b1da598.tif')\n",
    "img = np.array(img); print(img.shape)\n",
    "plt.imshow(img[:,:,1])\n"
   ]
  },
  {
   "cell_type": "code",
   "execution_count": 4,
   "id": "32db14dc",
   "metadata": {
    "execution": {
     "iopub.execute_input": "2023-06-01T04:31:46.191331Z",
     "iopub.status.busy": "2023-06-01T04:31:46.191002Z",
     "iopub.status.idle": "2023-06-01T04:31:53.681131Z",
     "shell.execute_reply": "2023-06-01T04:31:53.680207Z"
    },
    "papermill": {
     "duration": 7.499635,
     "end_time": "2023-06-01T04:31:53.683402",
     "exception": false,
     "start_time": "2023-06-01T04:31:46.183767",
     "status": "completed"
    },
    "tags": []
   },
   "outputs": [
    {
     "name": "stdout",
     "output_type": "stream",
     "text": [
      "                                         id  label\n",
      "0  f38a6374c348f90b587e046aac6079959adf3835      0\n",
      "1  c18f2d887b7ae4f6742ee445113fa1aef383ed77      1\n",
      "2  755db6279dae599ebb4d39a9123cce439965282d      0\n",
      "3  bc3f0c64fb968ff4a8bd33af6971ecae77c75e08      0\n",
      "4  068aba587a4950175d04c680d38943fd488d6a9d      0\n"
     ]
    }
   ],
   "source": [
    "fil_lst= os.listdir(\"/kaggle/input/histopathologic-cancer-detection/train\")\n",
    "train_files = fil_lst[0:150000]; \n",
    "train_size = 500\n",
    "x_train = np.empty((train_size,96,96,3))\n",
    "for i in range(train_size):\n",
    "    img = Image.open(r'/kaggle/input/histopathologic-cancer-detection/train/'+train_files[i])\n",
    "    x_train[i,:,:,:] = np.array(img);\n",
    "\n",
    "df = pd.read_csv('/kaggle/input/histopathologic-cancer-detection/train_labels.csv')\n",
    "print(df.head())\n",
    "y_data = np.array(df['label']); \n",
    "y_train = y_data[:train_size]"
   ]
  },
  {
   "cell_type": "code",
   "execution_count": 5,
   "id": "0819e0f0",
   "metadata": {
    "execution": {
     "iopub.execute_input": "2023-06-01T04:31:53.697503Z",
     "iopub.status.busy": "2023-06-01T04:31:53.697196Z",
     "iopub.status.idle": "2023-06-01T04:38:52.682877Z",
     "shell.execute_reply": "2023-06-01T04:38:52.682004Z"
    },
    "papermill": {
     "duration": 419.002288,
     "end_time": "2023-06-01T04:38:52.691834",
     "exception": false,
     "start_time": "2023-06-01T04:31:53.689546",
     "status": "completed"
    },
    "tags": []
   },
   "outputs": [
    {
     "name": "stdout",
     "output_type": "stream",
     "text": [
      "                                         id  label\n",
      "0  0b2ea2a822ad23fdb1b5dd26653da899fbd2c0d5      0\n",
      "1  95596b92e5066c5c52466c90b69ff089b39f2737      0\n",
      "2  248e6738860e2ebcf6258cdc1f32f299e0c76914      0\n",
      "3  2c35657e312966e9294eac6841726ff3a748febf      0\n",
      "4  145782eb7caa1c516acbe2eda34d9a3f31c41fd6      0\n"
     ]
    }
   ],
   "source": [
    "fil_lst_tst= os.listdir(\"/kaggle/input/histopathologic-cancer-detection/test\")\n",
    "train_files_tst = fil_lst_tst[:]; \n",
    "train_size_tst = len(train_files_tst)\n",
    "x_test = np.empty((train_size_tst,96,96,3))\n",
    "for i in range(train_size_tst):\n",
    "    img = Image.open(r'/kaggle/input/histopathologic-cancer-detection/test/'+train_files_tst[i])\n",
    "    x_test[i,:,:,:] = np.array(img);\n",
    "\n",
    "test = pd.read_csv('/kaggle/input/histopathologic-cancer-detection/sample_submission.csv')\n",
    "print(test.head())"
   ]
  },
  {
   "cell_type": "code",
   "execution_count": 6,
   "id": "065347ae",
   "metadata": {
    "execution": {
     "iopub.execute_input": "2023-06-01T04:38:52.706364Z",
     "iopub.status.busy": "2023-06-01T04:38:52.706021Z",
     "iopub.status.idle": "2023-06-01T04:38:56.630628Z",
     "shell.execute_reply": "2023-06-01T04:38:56.629634Z"
    },
    "papermill": {
     "duration": 3.943883,
     "end_time": "2023-06-01T04:38:56.642304",
     "exception": false,
     "start_time": "2023-06-01T04:38:52.698421",
     "status": "completed"
    },
    "tags": []
   },
   "outputs": [
    {
     "name": "stdout",
     "output_type": "stream",
     "text": [
      "Model: \"model\"\n",
      "__________________________________________________________________________________________________\n",
      " Layer (type)                   Output Shape         Param #     Connected to                     \n",
      "==================================================================================================\n",
      " input_1 (InputLayer)           [(None, 96, 96, 3)]  0           []                               \n",
      "                                                                                                  \n",
      " conv2d (Conv2D)                (None, 96, 96, 50)   1400        ['input_1[0][0]']                \n",
      "                                                                                                  \n",
      " conv2d_2 (Conv2D)              (None, 96, 96, 50)   3800        ['input_1[0][0]']                \n",
      "                                                                                                  \n",
      " max_pooling2d (MaxPooling2D)   (None, 48, 48, 50)   0           ['conv2d[0][0]']                 \n",
      "                                                                                                  \n",
      " max_pooling2d_1 (MaxPooling2D)  (None, 48, 48, 50)  0           ['conv2d_2[0][0]']               \n",
      "                                                                                                  \n",
      " conv2d_1 (Conv2D)              (None, 48, 48, 50)   22550       ['max_pooling2d[0][0]']          \n",
      "                                                                                                  \n",
      " conv2d_3 (Conv2D)              (None, 48, 48, 50)   62550       ['max_pooling2d_1[0][0]']        \n",
      "                                                                                                  \n",
      " concatenate (Concatenate)      (None, 48, 48, 100)  0           ['conv2d_1[0][0]',               \n",
      "                                                                  'conv2d_3[0][0]']               \n",
      "                                                                                                  \n",
      " conv2d_4 (Conv2D)              (None, 48, 48, 100)  90100       ['concatenate[0][0]']            \n",
      "                                                                                                  \n",
      " max_pooling2d_2 (MaxPooling2D)  (None, 24, 24, 100)  0          ['conv2d_4[0][0]']               \n",
      "                                                                                                  \n",
      " conv2d_5 (Conv2D)              (None, 24, 24, 100)  90100       ['max_pooling2d_2[0][0]']        \n",
      "                                                                                                  \n",
      " flatten (Flatten)              (None, 57600)        0           ['conv2d_5[0][0]']               \n",
      "                                                                                                  \n",
      " dense (Dense)                  (None, 1000)         57601000    ['flatten[0][0]']                \n",
      "                                                                                                  \n",
      " dense_1 (Dense)                (None, 200)          200200      ['dense[0][0]']                  \n",
      "                                                                                                  \n",
      " dense_2 (Dense)                (None, 1)            201         ['dense_1[0][0]']                \n",
      "                                                                                                  \n",
      "==================================================================================================\n",
      "Total params: 58,071,901\n",
      "Trainable params: 58,071,901\n",
      "Non-trainable params: 0\n",
      "__________________________________________________________________________________________________\n"
     ]
    }
   ],
   "source": [
    "l1_reg= tf.keras.regularizers.L2(0.0005)\n",
    "img_inputs = keras.Input(shape=(96, 96, 3))\n",
    "x1= keras.layers.Conv2D(50,(3,3),padding=\"same\",activation='relu',strides=1,kernel_initializer=\"glorot_uniform\",kernel_regularizer=l1_reg)(img_inputs)\n",
    "x1= keras.layers.MaxPool2D(2)(x1)\n",
    "x1= keras.layers.Conv2D(50,(3,3),padding=\"same\",activation='relu',strides=1,kernel_initializer=\"glorot_uniform\",kernel_regularizer=l1_reg)(x1)\n",
    "x2= keras.layers.Conv2D(50,(5,5),padding=\"same\",activation='relu',strides=1,kernel_initializer=\"glorot_uniform\",kernel_regularizer=l1_reg)(img_inputs)\n",
    "x2= keras.layers.MaxPool2D(2)(x2)\n",
    "x2= keras.layers.Conv2D(50,(5,5),padding=\"same\",activation='relu',strides=1,kernel_initializer=\"glorot_uniform\",kernel_regularizer=l1_reg)(x2)\n",
    "x = keras.layers.Concatenate()([x1,x2])\n",
    "x=  keras.layers.Conv2D(100,(3,3),padding=\"same\",activation='relu',strides=1,kernel_initializer=\"glorot_uniform\",kernel_regularizer=l1_reg)(x)\n",
    "x= keras.layers.MaxPool2D(2)(x)\n",
    "x= keras.layers.Conv2D(100,(3,3),padding=\"same\",strides=1,activation='relu',kernel_initializer=\"glorot_uniform\",kernel_regularizer=l1_reg)(x)\n",
    "x= keras.layers.Flatten()(x)\n",
    "x= keras.layers.Dense(1000,activation='relu',kernel_initializer=\"glorot_uniform\",kernel_regularizer=l1_reg)(x)\n",
    "x= keras.layers.Dense(200,activation='relu',kernel_initializer=\"glorot_uniform\",kernel_regularizer=l1_reg)(x)\n",
    "outputs= keras.layers.Dense(1,activation='sigmoid')(x)\n",
    "\n",
    "model = keras.Model(inputs=img_inputs, outputs=outputs)\n",
    "model.summary()"
   ]
  },
  {
   "cell_type": "code",
   "execution_count": 7,
   "id": "6d2e26b4",
   "metadata": {
    "execution": {
     "iopub.execute_input": "2023-06-01T04:38:56.665105Z",
     "iopub.status.busy": "2023-06-01T04:38:56.664236Z",
     "iopub.status.idle": "2023-06-01T04:38:56.684336Z",
     "shell.execute_reply": "2023-06-01T04:38:56.683370Z"
    },
    "papermill": {
     "duration": 0.033585,
     "end_time": "2023-06-01T04:38:56.686572",
     "exception": false,
     "start_time": "2023-06-01T04:38:56.652987",
     "status": "completed"
    },
    "tags": []
   },
   "outputs": [],
   "source": [
    "opt = tf.keras.optimizers.SGD(learning_rate=0.0001)\n",
    "los= tf.keras.losses.BinaryCrossentropy()\n",
    "model.compile(optimizer=opt,loss=los, metrics=['Accuracy'])"
   ]
  },
  {
   "cell_type": "code",
   "execution_count": 8,
   "id": "e3f1b2a7",
   "metadata": {
    "execution": {
     "iopub.execute_input": "2023-06-01T04:38:56.707290Z",
     "iopub.status.busy": "2023-06-01T04:38:56.706979Z",
     "iopub.status.idle": "2023-06-01T04:43:51.470994Z",
     "shell.execute_reply": "2023-06-01T04:43:51.469822Z"
    },
    "papermill": {
     "duration": 294.776926,
     "end_time": "2023-06-01T04:43:51.473114",
     "exception": false,
     "start_time": "2023-06-01T04:38:56.696188",
     "status": "completed"
    },
    "tags": []
   },
   "outputs": [
    {
     "name": "stdout",
     "output_type": "stream",
     "text": [
      "Epoch 1/50\n",
      "9/9 [==============================] - 8s 712ms/step - loss: 13.0894 - Accuracy: 0.5644 - val_loss: 2.3078 - val_Accuracy: 0.4600\n",
      "Epoch 2/50\n",
      "9/9 [==============================] - 6s 655ms/step - loss: 2.3640 - Accuracy: 0.5467 - val_loss: 2.3805 - val_Accuracy: 0.4000\n",
      "Epoch 3/50\n",
      "9/9 [==============================] - 6s 636ms/step - loss: 2.2857 - Accuracy: 0.5200 - val_loss: 2.4036 - val_Accuracy: 0.6000\n",
      "Epoch 4/50\n",
      "9/9 [==============================] - 6s 654ms/step - loss: 2.0317 - Accuracy: 0.5889 - val_loss: 2.0800 - val_Accuracy: 0.4800\n",
      "Epoch 5/50\n",
      "9/9 [==============================] - 6s 660ms/step - loss: 1.9350 - Accuracy: 0.6622 - val_loss: 2.0671 - val_Accuracy: 0.4800\n",
      "Epoch 6/50\n",
      "9/9 [==============================] - 6s 654ms/step - loss: 1.8444 - Accuracy: 0.7156 - val_loss: 2.0835 - val_Accuracy: 0.5200\n",
      "Epoch 7/50\n",
      "9/9 [==============================] - 6s 641ms/step - loss: 1.8042 - Accuracy: 0.7556 - val_loss: 2.1546 - val_Accuracy: 0.6000\n",
      "Epoch 8/50\n",
      "9/9 [==============================] - 6s 649ms/step - loss: 1.7905 - Accuracy: 0.7644 - val_loss: 2.0666 - val_Accuracy: 0.5200\n",
      "Epoch 9/50\n",
      "9/9 [==============================] - 6s 652ms/step - loss: 1.8231 - Accuracy: 0.7378 - val_loss: 2.1653 - val_Accuracy: 0.5800\n",
      "Epoch 10/50\n",
      "9/9 [==============================] - 6s 654ms/step - loss: 1.7997 - Accuracy: 0.7422 - val_loss: 2.1049 - val_Accuracy: 0.5200\n",
      "Epoch 11/50\n",
      "9/9 [==============================] - 6s 647ms/step - loss: 1.7615 - Accuracy: 0.7933 - val_loss: 2.3220 - val_Accuracy: 0.5800\n",
      "Epoch 12/50\n",
      "9/9 [==============================] - 6s 640ms/step - loss: 1.7022 - Accuracy: 0.8622 - val_loss: 2.0711 - val_Accuracy: 0.5200\n",
      "Epoch 13/50\n",
      "9/9 [==============================] - 6s 644ms/step - loss: 1.6844 - Accuracy: 0.8756 - val_loss: 2.0784 - val_Accuracy: 0.5400\n",
      "Epoch 14/50\n",
      "9/9 [==============================] - 6s 641ms/step - loss: 1.7742 - Accuracy: 0.7533 - val_loss: 2.1177 - val_Accuracy: 0.5400\n",
      "Epoch 15/50\n",
      "9/9 [==============================] - 6s 633ms/step - loss: 1.6682 - Accuracy: 0.8689 - val_loss: 2.1037 - val_Accuracy: 0.5200\n",
      "Epoch 16/50\n",
      "9/9 [==============================] - 6s 643ms/step - loss: 1.6371 - Accuracy: 0.9067 - val_loss: 2.0838 - val_Accuracy: 0.5400\n",
      "Epoch 17/50\n",
      "9/9 [==============================] - 6s 637ms/step - loss: 1.6560 - Accuracy: 0.9044 - val_loss: 2.1197 - val_Accuracy: 0.5600\n",
      "Epoch 18/50\n",
      "9/9 [==============================] - 6s 650ms/step - loss: 1.6205 - Accuracy: 0.9200 - val_loss: 2.0833 - val_Accuracy: 0.5400\n",
      "Epoch 19/50\n",
      "9/9 [==============================] - 6s 639ms/step - loss: 1.6296 - Accuracy: 0.8933 - val_loss: 2.1053 - val_Accuracy: 0.5400\n",
      "Epoch 20/50\n",
      "9/9 [==============================] - 6s 650ms/step - loss: 1.6634 - Accuracy: 0.8489 - val_loss: 2.3103 - val_Accuracy: 0.5800\n",
      "Epoch 21/50\n",
      "9/9 [==============================] - 6s 641ms/step - loss: 1.6295 - Accuracy: 0.8756 - val_loss: 2.3314 - val_Accuracy: 0.5800\n",
      "Epoch 22/50\n",
      "9/9 [==============================] - 6s 650ms/step - loss: 1.6902 - Accuracy: 0.8267 - val_loss: 2.0901 - val_Accuracy: 0.5400\n",
      "Epoch 23/50\n",
      "9/9 [==============================] - 6s 655ms/step - loss: 1.5912 - Accuracy: 0.9222 - val_loss: 2.1132 - val_Accuracy: 0.5600\n",
      "Epoch 24/50\n",
      "9/9 [==============================] - 6s 648ms/step - loss: 1.5666 - Accuracy: 0.9489 - val_loss: 2.1909 - val_Accuracy: 0.5400\n",
      "Epoch 25/50\n",
      "9/9 [==============================] - 6s 648ms/step - loss: 1.6145 - Accuracy: 0.9111 - val_loss: 2.1375 - val_Accuracy: 0.5400\n",
      "Epoch 26/50\n",
      "9/9 [==============================] - 6s 655ms/step - loss: 1.5620 - Accuracy: 0.9333 - val_loss: 2.0945 - val_Accuracy: 0.5400\n",
      "Epoch 27/50\n",
      "9/9 [==============================] - 6s 656ms/step - loss: 1.5376 - Accuracy: 0.9622 - val_loss: 2.2135 - val_Accuracy: 0.5800\n",
      "Epoch 28/50\n",
      "9/9 [==============================] - 6s 650ms/step - loss: 1.5285 - Accuracy: 0.9533 - val_loss: 2.1455 - val_Accuracy: 0.5800\n",
      "Epoch 29/50\n",
      "9/9 [==============================] - 6s 654ms/step - loss: 1.5971 - Accuracy: 0.8978 - val_loss: 2.1245 - val_Accuracy: 0.5200\n",
      "Epoch 30/50\n",
      "9/9 [==============================] - 6s 661ms/step - loss: 1.5159 - Accuracy: 0.9778 - val_loss: 2.2852 - val_Accuracy: 0.5600\n",
      "Epoch 31/50\n",
      "9/9 [==============================] - 6s 656ms/step - loss: 1.5360 - Accuracy: 0.9444 - val_loss: 2.1040 - val_Accuracy: 0.5600\n",
      "Epoch 32/50\n",
      "9/9 [==============================] - 6s 649ms/step - loss: 1.5099 - Accuracy: 0.9733 - val_loss: 2.1043 - val_Accuracy: 0.5200\n",
      "Epoch 33/50\n",
      "9/9 [==============================] - 6s 666ms/step - loss: 1.5066 - Accuracy: 0.9644 - val_loss: 2.1230 - val_Accuracy: 0.5200\n",
      "Epoch 34/50\n",
      "9/9 [==============================] - 6s 652ms/step - loss: 1.5308 - Accuracy: 0.9311 - val_loss: 2.1761 - val_Accuracy: 0.5600\n",
      "Epoch 35/50\n",
      "9/9 [==============================] - 6s 665ms/step - loss: 1.5353 - Accuracy: 0.9356 - val_loss: 2.1117 - val_Accuracy: 0.4800\n",
      "Epoch 36/50\n",
      "9/9 [==============================] - 6s 651ms/step - loss: 1.4813 - Accuracy: 0.9933 - val_loss: 2.1508 - val_Accuracy: 0.5200\n",
      "Epoch 37/50\n",
      "9/9 [==============================] - 6s 661ms/step - loss: 1.5185 - Accuracy: 0.9467 - val_loss: 2.1692 - val_Accuracy: 0.5200\n",
      "Epoch 38/50\n",
      "9/9 [==============================] - 6s 651ms/step - loss: 1.4835 - Accuracy: 0.9778 - val_loss: 2.1063 - val_Accuracy: 0.4400\n",
      "Epoch 39/50\n",
      "9/9 [==============================] - 6s 652ms/step - loss: 1.4751 - Accuracy: 0.9778 - val_loss: 2.1523 - val_Accuracy: 0.5200\n",
      "Epoch 40/50\n",
      "9/9 [==============================] - 6s 659ms/step - loss: 1.4822 - Accuracy: 0.9800 - val_loss: 2.1463 - val_Accuracy: 0.5200\n",
      "Epoch 41/50\n",
      "9/9 [==============================] - 6s 666ms/step - loss: 1.4682 - Accuracy: 0.9822 - val_loss: 2.1011 - val_Accuracy: 0.5000\n",
      "Epoch 42/50\n",
      "9/9 [==============================] - 6s 659ms/step - loss: 1.4822 - Accuracy: 0.9822 - val_loss: 2.1153 - val_Accuracy: 0.4800\n",
      "Epoch 43/50\n",
      "9/9 [==============================] - 6s 672ms/step - loss: 1.4545 - Accuracy: 0.9889 - val_loss: 2.1193 - val_Accuracy: 0.4800\n",
      "Epoch 44/50\n",
      "9/9 [==============================] - 6s 653ms/step - loss: 1.4618 - Accuracy: 0.9911 - val_loss: 2.1428 - val_Accuracy: 0.5200\n",
      "Epoch 45/50\n",
      "9/9 [==============================] - 6s 649ms/step - loss: 1.4702 - Accuracy: 0.9756 - val_loss: 2.1103 - val_Accuracy: 0.4600\n",
      "Epoch 46/50\n",
      "9/9 [==============================] - 6s 659ms/step - loss: 1.4467 - Accuracy: 0.9956 - val_loss: 2.1139 - val_Accuracy: 0.4600\n",
      "Epoch 47/50\n",
      "9/9 [==============================] - 6s 648ms/step - loss: 1.4932 - Accuracy: 0.9556 - val_loss: 2.1308 - val_Accuracy: 0.4600\n",
      "Epoch 48/50\n",
      "9/9 [==============================] - 6s 648ms/step - loss: 1.4453 - Accuracy: 0.9933 - val_loss: 2.1300 - val_Accuracy: 0.4600\n",
      "Epoch 49/50\n",
      "9/9 [==============================] - 6s 648ms/step - loss: 1.4518 - Accuracy: 0.9844 - val_loss: 2.1241 - val_Accuracy: 0.4400\n",
      "Epoch 50/50\n",
      "9/9 [==============================] - 6s 665ms/step - loss: 1.4424 - Accuracy: 0.9889 - val_loss: 2.2174 - val_Accuracy: 0.5400\n"
     ]
    },
    {
     "data": {
      "text/plain": [
       "<keras.callbacks.History at 0x7f95b8052820>"
      ]
     },
     "execution_count": 8,
     "metadata": {},
     "output_type": "execute_result"
    }
   ],
   "source": [
    "x_train= tf.convert_to_tensor(x_train); y_train= tf.convert_to_tensor(y_train)\n",
    "model.fit(x_train,y_train,batch_size=50,epochs=50,validation_split=0.1)"
   ]
  },
  {
   "cell_type": "code",
   "execution_count": 9,
   "id": "c7d9d173",
   "metadata": {
    "execution": {
     "iopub.execute_input": "2023-06-01T04:43:51.587938Z",
     "iopub.status.busy": "2023-06-01T04:43:51.587514Z",
     "iopub.status.idle": "2023-06-01T04:45:54.082880Z",
     "shell.execute_reply": "2023-06-01T04:45:54.081526Z"
    },
    "papermill": {
     "duration": 122.55593,
     "end_time": "2023-06-01T04:45:54.085656",
     "exception": false,
     "start_time": "2023-06-01T04:43:51.529726",
     "status": "completed"
    },
    "tags": []
   },
   "outputs": [
    {
     "name": "stdout",
     "output_type": "stream",
     "text": [
      "2873/2873 [==============================] - 114s 39ms/step\n"
     ]
    }
   ],
   "source": [
    "\n",
    "y_pred = model.predict(x_test, batch_size=20)"
   ]
  },
  {
   "cell_type": "code",
   "execution_count": 10,
   "id": "4b3c7585",
   "metadata": {
    "execution": {
     "iopub.execute_input": "2023-06-01T04:45:54.458598Z",
     "iopub.status.busy": "2023-06-01T04:45:54.457813Z",
     "iopub.status.idle": "2023-06-01T04:45:54.463268Z",
     "shell.execute_reply": "2023-06-01T04:45:54.462321Z"
    },
    "papermill": {
     "duration": 0.194332,
     "end_time": "2023-06-01T04:45:54.465412",
     "exception": false,
     "start_time": "2023-06-01T04:45:54.271080",
     "status": "completed"
    },
    "tags": []
   },
   "outputs": [],
   "source": [
    "test[\"label\"] = y_pred"
   ]
  },
  {
   "cell_type": "code",
   "execution_count": 11,
   "id": "12d53774",
   "metadata": {
    "execution": {
     "iopub.execute_input": "2023-06-01T04:45:54.837512Z",
     "iopub.status.busy": "2023-06-01T04:45:54.836636Z",
     "iopub.status.idle": "2023-06-01T04:45:54.845662Z",
     "shell.execute_reply": "2023-06-01T04:45:54.844621Z"
    },
    "papermill": {
     "duration": 0.197042,
     "end_time": "2023-06-01T04:45:54.847840",
     "exception": false,
     "start_time": "2023-06-01T04:45:54.650798",
     "status": "completed"
    },
    "tags": []
   },
   "outputs": [
    {
     "name": "stdout",
     "output_type": "stream",
     "text": [
      "                                          id     label\n",
      "25  4c3b7d71422fe2c35153a821c84538516ee89573  0.085981\n",
      "26  edf908d325da428766464beb035c744e589e2ba0  0.189087\n",
      "27  c68144b44b49d96d4b2e1870f854781a84ec3e20  0.222579\n",
      "28  81d0aa3c20f021c2fc12a79c359ea29fa499425f  0.126843\n",
      "29  564804ca8f0e05b7790108a24e7f2a36f1732375  0.296154\n",
      "30  8fa59f50488309b0f0bbe931ff416118094d2ff7  0.081332\n",
      "31  a66bd24337796d86c62f080c95939ba54a2c5125  0.482912\n",
      "32  b2e728e2b03b46dce8699387912eddfa655230ed  0.079187\n",
      "33  897bc5ac27b6dac879a3a3c6422ac48231a54e17  0.120087\n",
      "34  a3f7dc59ad6208c52350569e2b8e2176eb45a4f2  0.423937\n",
      "35  2ade3ffdc58a97d8a02fc968fb28de10de1c53da  0.152838\n",
      "36  cda27248c63b1fbd62c69cbb0f401e5b82f0b5e3  0.184516\n",
      "37  c7be682619bea4329db2066332d51d52698cab67  0.328350\n",
      "38  1a44a1321514bd4a074a4b08aa6279a76887672c  0.052495\n",
      "39  49abc1bef12526d5c4d4d13d11ee792a1302a7a4  0.162082\n",
      "40  ed613fd86fce87047bd5a7f68c4384069d597deb  0.197974\n",
      "41  38d4f639e1231013dac84fe9095e95ad78ad5982  0.409437\n",
      "42  deb06ae7b6b7db50c3f58bf54e7300aa2464eac2  0.097298\n",
      "43  31c400218dd7979fed323177ee81ffefc3fb633a  0.097667\n",
      "44  1dce1944eae399c8ace3f7cef3e54be17c0a0bed  0.050567\n",
      "45  88a12685148c0d876fed1fba8228afc6e7ee937f  0.030506\n",
      "46  4600b49bd4af02846ce8003f24f039d8be42c124  0.052335\n",
      "47  7bcb0c07eb56982a58d56696a33634e60db002e3  0.170713\n",
      "48  62be5bb7392c938e9362499f409a3ccb7231d7fd  0.375462\n",
      "49  b7339f7668f8d857edd607da54b2a664837d26cf  0.048789\n",
      "50  563d9722d44d4dc0312c4f87c0c0d198b388a924  0.294809\n"
     ]
    }
   ],
   "source": [
    "print(test.loc[25:50])"
   ]
  },
  {
   "cell_type": "code",
   "execution_count": 12,
   "id": "22b7e330",
   "metadata": {
    "execution": {
     "iopub.execute_input": "2023-06-01T04:45:55.278608Z",
     "iopub.status.busy": "2023-06-01T04:45:55.277733Z",
     "iopub.status.idle": "2023-06-01T04:45:55.283358Z",
     "shell.execute_reply": "2023-06-01T04:45:55.282420Z"
    },
    "papermill": {
     "duration": 0.250289,
     "end_time": "2023-06-01T04:45:55.285671",
     "exception": false,
     "start_time": "2023-06-01T04:45:55.035382",
     "status": "completed"
    },
    "tags": []
   },
   "outputs": [
    {
     "name": "stdout",
     "output_type": "stream",
     "text": [
      "[[0.]\n",
      " [0.]\n",
      " [0.]\n",
      " [0.]\n",
      " [0.]\n",
      " [0.]\n",
      " [0.]\n",
      " [0.]\n",
      " [0.]\n",
      " [0.]]\n"
     ]
    }
   ],
   "source": [
    "\n",
    "y_prd = np.rint(y_pred);\n",
    "print(y_prd[:10])"
   ]
  },
  {
   "cell_type": "code",
   "execution_count": 13,
   "id": "e2c6358c",
   "metadata": {
    "execution": {
     "iopub.execute_input": "2023-06-01T04:45:55.676788Z",
     "iopub.status.busy": "2023-06-01T04:45:55.676396Z",
     "iopub.status.idle": "2023-06-01T04:45:55.681395Z",
     "shell.execute_reply": "2023-06-01T04:45:55.680345Z"
    },
    "papermill": {
     "duration": 0.206866,
     "end_time": "2023-06-01T04:45:55.683696",
     "exception": false,
     "start_time": "2023-06-01T04:45:55.476830",
     "status": "completed"
    },
    "tags": []
   },
   "outputs": [],
   "source": [
    "test[\"label\"] = y_prd"
   ]
  },
  {
   "cell_type": "code",
   "execution_count": null,
   "id": "309a6b1c",
   "metadata": {
    "papermill": {
     "duration": 0.186542,
     "end_time": "2023-06-01T04:45:56.055850",
     "exception": false,
     "start_time": "2023-06-01T04:45:55.869308",
     "status": "completed"
    },
    "tags": []
   },
   "outputs": [],
   "source": []
  },
  {
   "cell_type": "code",
   "execution_count": 14,
   "id": "a0eac7a4",
   "metadata": {
    "execution": {
     "iopub.execute_input": "2023-06-01T04:45:56.427344Z",
     "iopub.status.busy": "2023-06-01T04:45:56.426981Z",
     "iopub.status.idle": "2023-06-01T04:45:56.602176Z",
     "shell.execute_reply": "2023-06-01T04:45:56.600973Z"
    },
    "papermill": {
     "duration": 0.363803,
     "end_time": "2023-06-01T04:45:56.605214",
     "exception": false,
     "start_time": "2023-06-01T04:45:56.241411",
     "status": "completed"
    },
    "tags": []
   },
   "outputs": [],
   "source": [
    "test.to_csv('submission.csv')"
   ]
  },
  {
   "cell_type": "code",
   "execution_count": null,
   "id": "c0173f71",
   "metadata": {
    "papermill": {
     "duration": 0.184663,
     "end_time": "2023-06-01T04:45:56.974264",
     "exception": false,
     "start_time": "2023-06-01T04:45:56.789601",
     "status": "completed"
    },
    "tags": []
   },
   "outputs": [],
   "source": []
  }
 ],
 "metadata": {
  "kernelspec": {
   "display_name": "Python 3",
   "language": "python",
   "name": "python3"
  },
  "language_info": {
   "codemirror_mode": {
    "name": "ipython",
    "version": 3
   },
   "file_extension": ".py",
   "mimetype": "text/x-python",
   "name": "python",
   "nbconvert_exporter": "python",
   "pygments_lexer": "ipython3",
   "version": "3.8.16"
  },
  "papermill": {
   "default_parameters": {},
   "duration": 1343.186184,
   "end_time": "2023-06-01T04:46:01.955913",
   "environment_variables": {},
   "exception": null,
   "input_path": "__notebook__.ipynb",
   "output_path": "__notebook__.ipynb",
   "parameters": {},
   "start_time": "2023-06-01T04:23:38.769729",
   "version": "2.4.0"
  }
 },
 "nbformat": 4,
 "nbformat_minor": 5
}
